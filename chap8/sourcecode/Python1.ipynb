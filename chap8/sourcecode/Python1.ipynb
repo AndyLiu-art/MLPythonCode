{
 "cells": [
  {
   "cell_type": "code",
   "execution_count": 1,
   "id": "19140fe7-3c50-4124-ac66-2783b077c5bd",
   "metadata": {
    "tags": []
   },
   "outputs": [
    {
     "name": "stdout",
     "output_type": "stream",
     "text": [
      "[1 0 2 0]\n",
      "分类准确率为：\n",
      "0.9466666666666667\n"
     ]
    }
   ],
   "source": [
    "# 导入操作系统库\n",
    "import os\n",
    "# 更改工作目录\n",
    "os.chdir(r\"D:\\softwares\\applied statistics\\pythoncodelearning\\chap8\\sourcecode\")\n",
    "# 导入基础计算库\n",
    "import numpy as np\n",
    "# 导入绘图库\n",
    "import matplotlib.pyplot as plt\n",
    "# 导入数据划分工具\n",
    "from sklearn.model_selection import train_test_split\n",
    "# 导入Gassian朴素贝叶斯分类器\n",
    "from sklearn.naive_bayes import GaussianNB\n",
    "# 导入数据获取工具\n",
    "from sklearn.datasets import load_iris\n",
    "# 导入绘图库中的字体管理包\n",
    "from matplotlib import font_manager\n",
    "# 实现中文字符正常显示\n",
    "font = font_manager.FontProperties(fname=r\"C:\\Windows\\Fonts\\SimKai.ttf\")\n",
    "# 使用seaborn风格绘图\n",
    "plt.style.use(\"seaborn-v0_8\")\n",
    "# 获取数据\n",
    "X, y = load_iris(return_X_y=True)\n",
    "# 数据划分\n",
    "X_train, X_test, y_train, y_test = train_test_split(\n",
    "    X, y, test_size=0.5, random_state=0\n",
    ")\n",
    "# 构建模型\n",
    "gnb = GaussianNB()\n",
    "# 模型拟合\n",
    "gnb.fit(X_train, y_train)\n",
    "# 预测\n",
    "y_pred = gnb.predict(X_test)\n",
    "print(y_pred[1:5])\n",
    "# 分类准确率\n",
    "corrate = np.mean(y_pred==y_test)\n",
    "print(\"分类准确率为：\")\n",
    "print(corrate)\n"
   ]
  }
 ],
 "metadata": {
  "kernelspec": {
   "display_name": "Python 3 (ipykernel)",
   "language": "python",
   "name": "python3"
  },
  "language_info": {
   "codemirror_mode": {
    "name": "ipython",
    "version": 3
   },
   "file_extension": ".py",
   "mimetype": "text/x-python",
   "name": "python",
   "nbconvert_exporter": "python",
   "pygments_lexer": "ipython3",
   "version": "3.10.10"
  }
 },
 "nbformat": 4,
 "nbformat_minor": 5
}
