{
 "cells": [
  {
   "cell_type": "code",
   "execution_count": 4,
   "id": "9af7ce69-4791-4e7e-8455-8676ac499621",
   "metadata": {
    "tags": []
   },
   "outputs": [
    {
     "name": "stdout",
     "output_type": "stream",
     "text": [
      "[[ 0.         -0.7448795   2.4336159   1.94042766]]\n",
      "[[ 2.10062976 -3.87615098  7.68741035  8.08451415]]\n",
      "[0 0 0 0 0 0 0 0 0 0 0 0 0 0 0 0 0 0 0 0 0 0 0 0 0 0 0 0 0 0 0 0 0 0 0 0 0\n",
      " 0 0 0 0 0 0 0 0 0 0 0 0 0 1 1 1 1 1 1 1 1 1 1 1 1 1 1 1 1 1 1 1 1 1 1 1 1\n",
      " 1 1 1 1 1 1 1 1 1 1 1 1 1 1 1 1 1 1 1 1 1 1 1 1 1 1]\n",
      "[0 0 0 0 0 0 0 0 0 0 0 0 0 0 0 0 0 0 0 0 0 0 0 0 0 0 0 0 0 0 0 0 0 0 0 0 0\n",
      " 0 0 0 0 0 0 0 0 0 0 0 0 0 1 1 1 1 1 1 1 1 1 1 1 1 1 1 1 1 1 1 1 1 1 1 1 1\n",
      " 1 1 1 1 1 1 1 1 1 1 1 1 1 1 1 1 1 1 1 1 1 1 1 1 1 1]\n",
      "[[0.99402636 0.00597364]\n",
      " [0.98703596 0.01296404]\n",
      " [0.9919501  0.0080499 ]\n",
      " [0.98687688 0.01312312]\n",
      " [0.99488669 0.00511331]\n",
      " [0.98947643 0.01052357]\n",
      " [0.99017504 0.00982496]\n",
      " [0.99175032 0.00824968]\n",
      " [0.98487479 0.01512521]\n",
      " [0.99067091 0.00932909]]\n",
      "[[9.99999995e-01 4.53177934e-09]\n",
      " [9.99999863e-01 1.37248738e-07]\n",
      " [9.99999992e-01 8.19323638e-09]\n",
      " [9.99999961e-01 3.86307599e-08]\n",
      " [9.99999999e-01 1.44538132e-09]\n",
      " [9.99999959e-01 4.11653960e-08]\n",
      " [9.99999992e-01 8.31066378e-09]\n",
      " [9.99999987e-01 1.25390963e-08]\n",
      " [9.99999940e-01 5.97705622e-08]\n",
      " [9.99999975e-01 2.46149485e-08]]\n"
     ]
    }
   ],
   "source": [
    "# 导入操作系统库\n",
    "import os\n",
    "# 更改工作目录\n",
    "os.chdir(r\"D:\\softwares\\applied statistics\\pythoncodelearning\\chap1\\sourcecode\")\n",
    "# 导入基础计算库\n",
    "import numpy as np\n",
    "# 导入绘图库\n",
    "import matplotlib.pyplot as plt\n",
    "# 导入logistic回归模型\n",
    "from sklearn.linear_model import LogisticRegression\n",
    "# 导入数据集\n",
    "from sklearn.datasets import load_iris\n",
    "# 导入标准化工具\n",
    "from sklearn.preprocessing import StandardScaler\n",
    "# 导入绘图库中的字体管理包\n",
    "from matplotlib import font_manager\n",
    "# 实现中文字符正常显示\n",
    "font = font_manager.FontProperties(fname=r\"C:\\Windows\\Fonts\\SimKai.ttf\")\n",
    "# 使用seaborn风格绘图\n",
    "plt.style.use(\"seaborn-v0_8\")\n",
    "# 生成数据集\n",
    "X, y = load_iris(return_X_y=True, as_frame=True)\n",
    "# 选择y的两个标签对应的数据\n",
    "X = X[y != 2]\n",
    "y = y[y != 2]\n",
    "# 对X标准化\n",
    "X = StandardScaler().fit_transform(X)\n",
    "# 建立带惩罚的Logistic模型\n",
    "clf1 = LogisticRegression(\n",
    "    penalty=\"l1\",\n",
    "    solver=\"liblinear\"\n",
    ")\n",
    "# 建立不带惩罚的Logistic模型\n",
    "clf2 = LogisticRegression(\n",
    "    penalty=None\n",
    ")\n",
    "# 模型拟合\n",
    "clf1.fit(X, y)\n",
    "clf2.fit(X, y)\n",
    "# 输出系数\n",
    "print(clf1.coef_)\n",
    "print(clf2.coef_)\n",
    "# 标签预测\n",
    "y1_pred = clf1.predict(X)\n",
    "y2_pred = clf2.predict(X)\n",
    "# 概率预测\n",
    "prob1_pred = clf1.predict_proba(X)\n",
    "prob2_pred = clf2.predict_proba(X)\n",
    "# 输出标签\n",
    "print(y1_pred)\n",
    "print(y2_pred)\n",
    "# 输出概率\n",
    "print(prob1_pred[:10,])\n",
    "print(prob2_pred[:10,])\n"
   ]
  }
 ],
 "metadata": {
  "kernelspec": {
   "display_name": "Python 3 (ipykernel)",
   "language": "python",
   "name": "python3"
  },
  "language_info": {
   "codemirror_mode": {
    "name": "ipython",
    "version": 3
   },
   "file_extension": ".py",
   "mimetype": "text/x-python",
   "name": "python",
   "nbconvert_exporter": "python",
   "pygments_lexer": "ipython3",
   "version": "3.10.10"
  }
 },
 "nbformat": 4,
 "nbformat_minor": 5
}
