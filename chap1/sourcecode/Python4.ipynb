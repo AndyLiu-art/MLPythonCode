{
 "cells": [
  {
   "cell_type": "code",
   "execution_count": 18,
   "id": "86979260-f119-470b-a94f-096ce9ecc7d1",
   "metadata": {
    "tags": []
   },
   "outputs": [
    {
     "name": "stdout",
     "output_type": "stream",
     "text": [
      "混淆矩阵为：\n",
      "[[14 10]\n",
      " [ 8  8]]\n"
     ]
    },
    {
     "data": {
      "image/png": "[encoded data removed]",
      "text/plain": [
       "<Figure size 600x600 with 2 Axes>"
      ]
     },
     "metadata": {},
     "output_type": "display_data"
    }
   ],
   "source": [
    "# 导入操作系统库\n",
    "import os\n",
    "# 更改工作目录\n",
    "os.chdir(r\"D:\\softwares\\applied statistics\\pythoncodelearning\\chap1\\sourcecode\")\n",
    "# 导入基础计算库\n",
    "import numpy as np\n",
    "# 导入绘图库\n",
    "import matplotlib.pyplot as plt\n",
    "# 导入线性回归模型\n",
    "from sklearn.linear_model import RidgeClassifier\n",
    "# 导入数据集划分工具\n",
    "from sklearn.model_selection import train_test_split\n",
    "# 导入混淆矩阵\n",
    "from sklearn.metrics import ConfusionMatrixDisplay, confusion_matrix\n",
    "# 导入绘图库中的字体管理包\n",
    "from matplotlib import font_manager\n",
    "# 实现中文字符正常显示\n",
    "font = font_manager.FontProperties(fname=r\"C:\\Windows\\Fonts\\SimKai.ttf\")\n",
    "# 使用seaborn风格绘图\n",
    "plt.style.use(\"seaborn-v0_8\")\n",
    "# 维度\n",
    "p = 200\n",
    "# 样本量\n",
    "samplesize = 100\n",
    "# 真实的系数值\n",
    "coef = np.random.normal(size=p)\n",
    "# 生成X数据\n",
    "x = np.random.randn(samplesize, p)\n",
    "# 生成概率\n",
    "p = np.exp(x.dot(coef))/(1+np.exp(x.dot(coef)))\n",
    "# 生成y\n",
    "y = np.random.binomial(1, p)\n",
    "x_train, x_test, y_train, y_test = train_test_split(\n",
    "    x, y, test_size=0.4, random_state=10\n",
    ")\n",
    "# 构造Ridge分类器\n",
    "clf = RidgeClassifier(tol=1e-2, solver=\"sparse_cg\")\n",
    "# 模型拟合\n",
    "clf.fit(x_train, y_train)\n",
    "# 预测\n",
    "y_pred = clf.predict(x_test)\n",
    "# 混淆矩阵\n",
    "res = confusion_matrix(y_test, y_pred, labels=[0,1])\n",
    "print(\"混淆矩阵为：\", res, sep=\"\\n\")\n",
    "# 开始绘图\n",
    "fig, ax = plt.subplots(figsize=(6, 6))\n",
    "# 绘制混淆矩阵图\n",
    "ConfusionMatrixDisplay.from_predictions(y_test, y_pred, ax=ax)\n",
    "# 设置横纵轴刻度\n",
    "ax.xaxis.set_ticklabels([0,1])\n",
    "ax.yaxis.set_ticklabels([0,1])\n",
    "plt.show()\n",
    "fig.savefig(\"../codeimage/code4.pdf\")\n"
   ]
  }
 ],
 "metadata": {
  "kernelspec": {
   "display_name": "Python 3 (ipykernel)",
   "language": "python",
   "name": "python3"
  },
  "language_info": {
   "codemirror_mode": {
    "name": "ipython",
    "version": 3
   },
   "file_extension": ".py",
   "mimetype": "text/x-python",
   "name": "python",
   "nbconvert_exporter": "python",
   "pygments_lexer": "ipython3",
   "version": "3.10.10"
  }
 },
 "nbformat": 4,
 "nbformat_minor": 5
}
