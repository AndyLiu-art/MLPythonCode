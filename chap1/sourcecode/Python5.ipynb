{
 "cells": [
  {
   "cell_type": "code",
   "execution_count": 1,
   "id": "c2aa2ac7-913b-48b7-856a-63e27511dad8",
   "metadata": {
    "tags": []
   },
   "outputs": [
    {
     "name": "stdout",
     "output_type": "stream",
     "text": [
      "在测试集上的MSE为： 0.00012988709824135518\n",
      "在测试集上的R方为： 0.9999999974707636\n"
     ]
    }
   ],
   "source": [
    "# 导入操作系统库\n",
    "import os\n",
    "# 更改工作目录\n",
    "os.chdir(r\"D:\\softwares\\applied statistics\\pythoncodelearning\\chap1\\sourcecode\")\n",
    "# 导入基础计算库\n",
    "import numpy as np\n",
    "# 导入绘图库\n",
    "import matplotlib.pyplot as plt\n",
    "# 导入数据集生成工具\n",
    "from sklearn.datasets import make_regression\n",
    "# 导入线性回归模型\n",
    "from sklearn.linear_model import RidgeCV\n",
    "# 导入数据集划分工具\n",
    "from sklearn.model_selection import train_test_split\n",
    "# 导入模型评估的工具\n",
    "from sklearn.metrics import mean_squared_error, r2_score\n",
    "# 导入绘图库中的字体管理包\n",
    "from matplotlib import font_manager\n",
    "# 实现中文字符正常显示\n",
    "font = font_manager.FontProperties(fname=r\"C:\\Windows\\Fonts\\SimKai.ttf\")\n",
    "# 使用seaborn风格绘图\n",
    "plt.style.use(\"seaborn-v0_8\")\n",
    "# 生成Hilbert矩阵作为X\n",
    "X, y = make_regression(\n",
    "    n_features=20, # 维度\n",
    "    n_samples=300, # 样本量\n",
    "    n_informative=10 # 有效显著变量的个数\n",
    ")\n",
    "# 划分数据集\n",
    "x_train, x_test, y_train, y_test = train_test_split(\n",
    "    X, y, test_size=0.3, random_state=10\n",
    ")\n",
    "# 设置不同的惩罚系数alpha的个数\n",
    "n_alphas = 200\n",
    "# alpha系数向量\n",
    "alphas = np.linspace(0.01, 2, n_alphas)\n",
    "# 构造岭回归模型\n",
    "ridge = RidgeCV(\n",
    "    alphas=alphas, # 惩罚系数\n",
    "    fit_intercept=False, # 不拟合\n",
    "    cv=5 # 五折交叉验证\n",
    ")\n",
    "# 模型拟合\n",
    "ridge.fit(x_train, y_train)\n",
    "# 预测\n",
    "y_pred = ridge.predict(x_test)\n",
    "# 测试集上的mse\n",
    "mse = mean_squared_error(y_test, y_pred)\n",
    "r2 = r2_score(y_test, y_pred)\n",
    "print(\"在测试集上的MSE为：\", mse)\n",
    "print(\"在测试集上的R方为：\", r2)\n"
   ]
  }
 ],
 "metadata": {
  "kernelspec": {
   "display_name": "Python 3 (ipykernel)",
   "language": "python",
   "name": "python3"
  },
  "language_info": {
   "codemirror_mode": {
    "name": "ipython",
    "version": 3
   },
   "file_extension": ".py",
   "mimetype": "text/x-python",
   "name": "python",
   "nbconvert_exporter": "python",
   "pygments_lexer": "ipython3",
   "version": "3.10.10"
  }
 },
 "nbformat": 4,
 "nbformat_minor": 5
}
