{
 "cells": [
  {
   "cell_type": "code",
   "execution_count": null,
   "id": "650a19a1-1034-4528-8eb0-5462ba261be3",
   "metadata": {},
   "outputs": [],
   "source": []
  }
 ],
 "metadata": {
  "kernelspec": {
   "display_name": "Python 3 (ipykernel)",
   "language": "python",
   "name": "python3"
  },
  "language_info": {
   "name": ""
  }
 },
 "nbformat": 4,
 "nbformat_minor": 5
}
